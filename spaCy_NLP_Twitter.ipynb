{
 "cells": [
  {
   "cell_type": "markdown",
   "metadata": {},
   "source": [
    "## Twitter sentiment analysis with spaCy\n",
    "Alejandro Granados\n",
    "Dec 2020\n",
    "\n",
    "This project consists of the following steps:\n",
    "* Create spacy pipeline using linear regression model \n",
    "* Train the pipeline with data from IMDB reviews\n",
    "* Download 3k tweets for a specified Twitter user\n",
    "* Use the pipeline to predict sentiment for each tweet \n",
    "* Visualize sentiment as time series using a 7-day moving average \n",
    "\n",
    "### Results\n",
    "* The sentiment classifier trained on IMDB reaches 0.87 accuracy using a Linear Regression model \n",
    "* We can classify Tweets using this spacy pipeline \n",
    "\n"
   ]
  },
  {
   "cell_type": "markdown",
   "metadata": {},
   "source": [
    "# Setting up the spacy pipeline\n",
    "\n",
    "We are going to build a text classification pipeline using spacy and a Linear Regression classifier. \n",
    "We are going then to train the pipeline using the IMDB movie reviews dataset. \n",
    "Finally, using the Twitter API, we are going to download data and assign sentiment to individual tweets. "
   ]
  },
  {
   "cell_type": "code",
   "execution_count": 1,
   "metadata": {},
   "outputs": [],
   "source": [
    "# Set up spaCy\n",
    "import spacy\n",
    "# this English package is the default from the website but does not load as the default instructions\n",
    "spacy.require_gpu() # if you installed the version compatible with GPU\n",
    "\n",
    "# Here en_core_web_sm is the model \n",
    "# nlp is the main object or \"the pipeline\"\n",
    "# When you call nlp on a text, spaCy will tokenize it and then call each component on the Doc, in order. \n",
    "# It then returns the processed Doc that you can work with.\n",
    "model = \"en_core_web_sm\"\n",
    "nlp = spacy.load(model)\n"
   ]
  },
  {
   "cell_type": "markdown",
   "metadata": {},
   "source": [
    "## Textcat: classification of text using neural networks and IMDB data\n",
    "\n",
    "Our pipeline will consist of a tokenizer, a normalization step and a classifier. \n",
    "\n",
    "* First we will define some custom function as to how we want to pre-process the data \n",
    "* Then we can put all of these together into a spacy pipeline"
   ]
  },
  {
   "cell_type": "code",
   "execution_count": 2,
   "metadata": {},
   "outputs": [],
   "source": [
    "import pandas as pd\n",
    "from sklearn.feature_extraction.text import CountVectorizer,TfidfVectorizer\n",
    "from sklearn.base import TransformerMixin\n",
    "from sklearn.pipeline import Pipeline\n"
   ]
  },
  {
   "cell_type": "code",
   "execution_count": 3,
   "metadata": {},
   "outputs": [
    {
     "name": "stdout",
     "output_type": "stream",
     "text": [
      "Wall time: 397 ms\n"
     ]
    }
   ],
   "source": [
    "%%time\n",
    "\n",
    "import string\n",
    "from spacy.lang.en.stop_words import STOP_WORDS\n",
    "from spacy.lang.en import English\n",
    "from sklearn.model_selection import train_test_split\n",
    "\n",
    "\n",
    "punctuations = string.punctuation\n",
    "\n",
    "# It then returns the processed Doc that you can work with.\n",
    "model = \"en_core_web_sm\"\n",
    "nlp = spacy.load(model)\n",
    "\n",
    "stop_words = spacy.lang.en.stop_words.STOP_WORDS\n",
    "\n",
    "# our own custom tokenizer \n",
    "# we provide the tokenizer method for scikit-learn\n",
    "# Remove stop words and PRON\n",
    "def spacy_tokenizer(sentence):    \n",
    "    mytokens = nlp(sentence)\n",
    "    mytokens = [ word.lemma_.lower().strip() if word.lemma_ != \"-PRON-\" else word.lower_ for word in mytokens ]\n",
    "    mytokens = [ word for word in mytokens if word not in stop_words and word not in punctuations ]\n",
    "    return mytokens\n",
    "\n",
    "# We create a class with a trasnform method\n",
    "# the transform method will call our clean_text function \n",
    "\n",
    "#Here, we will create a custom predictors class wich inherits the \n",
    "# TransformerMixin class. This class overrides the transform, fit and \n",
    "# get_parrams methods. We’ll also create a clean_text() function that \n",
    "# removes spaces and converts text into lowercase.\n",
    "\n",
    "# Mixins are a sort of class that is used to \"mix in\" extra properties \n",
    "# and methods into a class. This allows you to create classes in a \n",
    "# compositional style.\n",
    "class predictors(TransformerMixin):\n",
    "    def transform(self,X, **transform_params):\n",
    "        return [clean_text(text) for text in X]\n",
    "    def fit(self, X, y = None, **fit_params):\n",
    "        return self\n",
    "    def get_params(self, deep = True):\n",
    "        return {}\n",
    "    \n",
    "def clean_text(text):\n",
    "    return text.strip().lower()"
   ]
  },
  {
   "cell_type": "markdown",
   "metadata": {},
   "source": [
    "### Using spacy to understand language relationships"
   ]
  },
  {
   "cell_type": "code",
   "execution_count": 48,
   "metadata": {
    "scrolled": true
   },
   "outputs": [
    {
     "data": {
      "text/html": [
       "<span class=\"tex2jax_ignore\"><svg xmlns=\"http://www.w3.org/2000/svg\" xmlns:xlink=\"http://www.w3.org/1999/xlink\" xml:lang=\"en\" id=\"a69ec82b21334390a478a6b898c79fcf-0\" class=\"displacy\" width=\"1800\" height=\"399.5\" direction=\"ltr\" style=\"max-width: none; height: 399.5px; color: #000000; background: #ffffff; font-family: Arial; direction: ltr\">\n",
       "<text class=\"displacy-token\" fill=\"currentColor\" text-anchor=\"middle\" y=\"309.5\">\n",
       "    <tspan class=\"displacy-word\" fill=\"currentColor\" x=\"50\">Hi</tspan>\n",
       "    <tspan class=\"displacy-tag\" dy=\"2em\" fill=\"currentColor\" x=\"50\">INTJ</tspan>\n",
       "</text>\n",
       "\n",
       "<text class=\"displacy-token\" fill=\"currentColor\" text-anchor=\"middle\" y=\"309.5\">\n",
       "    <tspan class=\"displacy-word\" fill=\"currentColor\" x=\"225\">my</tspan>\n",
       "    <tspan class=\"displacy-tag\" dy=\"2em\" fill=\"currentColor\" x=\"225\">PRON</tspan>\n",
       "</text>\n",
       "\n",
       "<text class=\"displacy-token\" fill=\"currentColor\" text-anchor=\"middle\" y=\"309.5\">\n",
       "    <tspan class=\"displacy-word\" fill=\"currentColor\" x=\"400\">name</tspan>\n",
       "    <tspan class=\"displacy-tag\" dy=\"2em\" fill=\"currentColor\" x=\"400\">NOUN</tspan>\n",
       "</text>\n",
       "\n",
       "<text class=\"displacy-token\" fill=\"currentColor\" text-anchor=\"middle\" y=\"309.5\">\n",
       "    <tspan class=\"displacy-word\" fill=\"currentColor\" x=\"575\">is</tspan>\n",
       "    <tspan class=\"displacy-tag\" dy=\"2em\" fill=\"currentColor\" x=\"575\">AUX</tspan>\n",
       "</text>\n",
       "\n",
       "<text class=\"displacy-token\" fill=\"currentColor\" text-anchor=\"middle\" y=\"309.5\">\n",
       "    <tspan class=\"displacy-word\" fill=\"currentColor\" x=\"750\">Alejandro,</tspan>\n",
       "    <tspan class=\"displacy-tag\" dy=\"2em\" fill=\"currentColor\" x=\"750\">PROPN</tspan>\n",
       "</text>\n",
       "\n",
       "<text class=\"displacy-token\" fill=\"currentColor\" text-anchor=\"middle\" y=\"309.5\">\n",
       "    <tspan class=\"displacy-word\" fill=\"currentColor\" x=\"925\">I</tspan>\n",
       "    <tspan class=\"displacy-tag\" dy=\"2em\" fill=\"currentColor\" x=\"925\">PRON</tspan>\n",
       "</text>\n",
       "\n",
       "<text class=\"displacy-token\" fill=\"currentColor\" text-anchor=\"middle\" y=\"309.5\">\n",
       "    <tspan class=\"displacy-word\" fill=\"currentColor\" x=\"1100\">am</tspan>\n",
       "    <tspan class=\"displacy-tag\" dy=\"2em\" fill=\"currentColor\" x=\"1100\">AUX</tspan>\n",
       "</text>\n",
       "\n",
       "<text class=\"displacy-token\" fill=\"currentColor\" text-anchor=\"middle\" y=\"309.5\">\n",
       "    <tspan class=\"displacy-word\" fill=\"currentColor\" x=\"1275\">a</tspan>\n",
       "    <tspan class=\"displacy-tag\" dy=\"2em\" fill=\"currentColor\" x=\"1275\">DET</tspan>\n",
       "</text>\n",
       "\n",
       "<text class=\"displacy-token\" fill=\"currentColor\" text-anchor=\"middle\" y=\"309.5\">\n",
       "    <tspan class=\"displacy-word\" fill=\"currentColor\" x=\"1450\">Data</tspan>\n",
       "    <tspan class=\"displacy-tag\" dy=\"2em\" fill=\"currentColor\" x=\"1450\">PROPN</tspan>\n",
       "</text>\n",
       "\n",
       "<text class=\"displacy-token\" fill=\"currentColor\" text-anchor=\"middle\" y=\"309.5\">\n",
       "    <tspan class=\"displacy-word\" fill=\"currentColor\" x=\"1625\">Scientist</tspan>\n",
       "    <tspan class=\"displacy-tag\" dy=\"2em\" fill=\"currentColor\" x=\"1625\">PROPN</tspan>\n",
       "</text>\n",
       "\n",
       "<g class=\"displacy-arrow\">\n",
       "    <path class=\"displacy-arc\" id=\"arrow-a69ec82b21334390a478a6b898c79fcf-0-0\" stroke-width=\"2px\" d=\"M70,264.5 C70,2.0 575.0,2.0 575.0,264.5\" fill=\"none\" stroke=\"currentColor\"/>\n",
       "    <text dy=\"1.25em\" style=\"font-size: 0.8em; letter-spacing: 1px\">\n",
       "        <textPath xlink:href=\"#arrow-a69ec82b21334390a478a6b898c79fcf-0-0\" class=\"displacy-label\" startOffset=\"50%\" side=\"left\" fill=\"currentColor\" text-anchor=\"middle\">intj</textPath>\n",
       "    </text>\n",
       "    <path class=\"displacy-arrowhead\" d=\"M70,266.5 L62,254.5 78,254.5\" fill=\"currentColor\"/>\n",
       "</g>\n",
       "\n",
       "<g class=\"displacy-arrow\">\n",
       "    <path class=\"displacy-arc\" id=\"arrow-a69ec82b21334390a478a6b898c79fcf-0-1\" stroke-width=\"2px\" d=\"M245,264.5 C245,177.0 390.0,177.0 390.0,264.5\" fill=\"none\" stroke=\"currentColor\"/>\n",
       "    <text dy=\"1.25em\" style=\"font-size: 0.8em; letter-spacing: 1px\">\n",
       "        <textPath xlink:href=\"#arrow-a69ec82b21334390a478a6b898c79fcf-0-1\" class=\"displacy-label\" startOffset=\"50%\" side=\"left\" fill=\"currentColor\" text-anchor=\"middle\">poss</textPath>\n",
       "    </text>\n",
       "    <path class=\"displacy-arrowhead\" d=\"M245,266.5 L237,254.5 253,254.5\" fill=\"currentColor\"/>\n",
       "</g>\n",
       "\n",
       "<g class=\"displacy-arrow\">\n",
       "    <path class=\"displacy-arc\" id=\"arrow-a69ec82b21334390a478a6b898c79fcf-0-2\" stroke-width=\"2px\" d=\"M420,264.5 C420,177.0 565.0,177.0 565.0,264.5\" fill=\"none\" stroke=\"currentColor\"/>\n",
       "    <text dy=\"1.25em\" style=\"font-size: 0.8em; letter-spacing: 1px\">\n",
       "        <textPath xlink:href=\"#arrow-a69ec82b21334390a478a6b898c79fcf-0-2\" class=\"displacy-label\" startOffset=\"50%\" side=\"left\" fill=\"currentColor\" text-anchor=\"middle\">nsubj</textPath>\n",
       "    </text>\n",
       "    <path class=\"displacy-arrowhead\" d=\"M420,266.5 L412,254.5 428,254.5\" fill=\"currentColor\"/>\n",
       "</g>\n",
       "\n",
       "<g class=\"displacy-arrow\">\n",
       "    <path class=\"displacy-arc\" id=\"arrow-a69ec82b21334390a478a6b898c79fcf-0-3\" stroke-width=\"2px\" d=\"M595,264.5 C595,2.0 1100.0,2.0 1100.0,264.5\" fill=\"none\" stroke=\"currentColor\"/>\n",
       "    <text dy=\"1.25em\" style=\"font-size: 0.8em; letter-spacing: 1px\">\n",
       "        <textPath xlink:href=\"#arrow-a69ec82b21334390a478a6b898c79fcf-0-3\" class=\"displacy-label\" startOffset=\"50%\" side=\"left\" fill=\"currentColor\" text-anchor=\"middle\">ccomp</textPath>\n",
       "    </text>\n",
       "    <path class=\"displacy-arrowhead\" d=\"M595,266.5 L587,254.5 603,254.5\" fill=\"currentColor\"/>\n",
       "</g>\n",
       "\n",
       "<g class=\"displacy-arrow\">\n",
       "    <path class=\"displacy-arc\" id=\"arrow-a69ec82b21334390a478a6b898c79fcf-0-4\" stroke-width=\"2px\" d=\"M595,264.5 C595,177.0 740.0,177.0 740.0,264.5\" fill=\"none\" stroke=\"currentColor\"/>\n",
       "    <text dy=\"1.25em\" style=\"font-size: 0.8em; letter-spacing: 1px\">\n",
       "        <textPath xlink:href=\"#arrow-a69ec82b21334390a478a6b898c79fcf-0-4\" class=\"displacy-label\" startOffset=\"50%\" side=\"left\" fill=\"currentColor\" text-anchor=\"middle\">attr</textPath>\n",
       "    </text>\n",
       "    <path class=\"displacy-arrowhead\" d=\"M740.0,266.5 L748.0,254.5 732.0,254.5\" fill=\"currentColor\"/>\n",
       "</g>\n",
       "\n",
       "<g class=\"displacy-arrow\">\n",
       "    <path class=\"displacy-arc\" id=\"arrow-a69ec82b21334390a478a6b898c79fcf-0-5\" stroke-width=\"2px\" d=\"M945,264.5 C945,177.0 1090.0,177.0 1090.0,264.5\" fill=\"none\" stroke=\"currentColor\"/>\n",
       "    <text dy=\"1.25em\" style=\"font-size: 0.8em; letter-spacing: 1px\">\n",
       "        <textPath xlink:href=\"#arrow-a69ec82b21334390a478a6b898c79fcf-0-5\" class=\"displacy-label\" startOffset=\"50%\" side=\"left\" fill=\"currentColor\" text-anchor=\"middle\">nsubj</textPath>\n",
       "    </text>\n",
       "    <path class=\"displacy-arrowhead\" d=\"M945,266.5 L937,254.5 953,254.5\" fill=\"currentColor\"/>\n",
       "</g>\n",
       "\n",
       "<g class=\"displacy-arrow\">\n",
       "    <path class=\"displacy-arc\" id=\"arrow-a69ec82b21334390a478a6b898c79fcf-0-6\" stroke-width=\"2px\" d=\"M1295,264.5 C1295,89.5 1620.0,89.5 1620.0,264.5\" fill=\"none\" stroke=\"currentColor\"/>\n",
       "    <text dy=\"1.25em\" style=\"font-size: 0.8em; letter-spacing: 1px\">\n",
       "        <textPath xlink:href=\"#arrow-a69ec82b21334390a478a6b898c79fcf-0-6\" class=\"displacy-label\" startOffset=\"50%\" side=\"left\" fill=\"currentColor\" text-anchor=\"middle\">det</textPath>\n",
       "    </text>\n",
       "    <path class=\"displacy-arrowhead\" d=\"M1295,266.5 L1287,254.5 1303,254.5\" fill=\"currentColor\"/>\n",
       "</g>\n",
       "\n",
       "<g class=\"displacy-arrow\">\n",
       "    <path class=\"displacy-arc\" id=\"arrow-a69ec82b21334390a478a6b898c79fcf-0-7\" stroke-width=\"2px\" d=\"M1470,264.5 C1470,177.0 1615.0,177.0 1615.0,264.5\" fill=\"none\" stroke=\"currentColor\"/>\n",
       "    <text dy=\"1.25em\" style=\"font-size: 0.8em; letter-spacing: 1px\">\n",
       "        <textPath xlink:href=\"#arrow-a69ec82b21334390a478a6b898c79fcf-0-7\" class=\"displacy-label\" startOffset=\"50%\" side=\"left\" fill=\"currentColor\" text-anchor=\"middle\">compound</textPath>\n",
       "    </text>\n",
       "    <path class=\"displacy-arrowhead\" d=\"M1470,266.5 L1462,254.5 1478,254.5\" fill=\"currentColor\"/>\n",
       "</g>\n",
       "\n",
       "<g class=\"displacy-arrow\">\n",
       "    <path class=\"displacy-arc\" id=\"arrow-a69ec82b21334390a478a6b898c79fcf-0-8\" stroke-width=\"2px\" d=\"M1120,264.5 C1120,2.0 1625.0,2.0 1625.0,264.5\" fill=\"none\" stroke=\"currentColor\"/>\n",
       "    <text dy=\"1.25em\" style=\"font-size: 0.8em; letter-spacing: 1px\">\n",
       "        <textPath xlink:href=\"#arrow-a69ec82b21334390a478a6b898c79fcf-0-8\" class=\"displacy-label\" startOffset=\"50%\" side=\"left\" fill=\"currentColor\" text-anchor=\"middle\">attr</textPath>\n",
       "    </text>\n",
       "    <path class=\"displacy-arrowhead\" d=\"M1625.0,266.5 L1633.0,254.5 1617.0,254.5\" fill=\"currentColor\"/>\n",
       "</g>\n",
       "</svg></span>"
      ],
      "text/plain": [
       "<IPython.core.display.HTML object>"
      ]
     },
     "metadata": {},
     "output_type": "display_data"
    }
   ],
   "source": [
    "from spacy import displacy\n",
    "doc = nlp(\"Hi my name is Alejandro, I am a Data Scientist\")\n",
    "t = doc[0]\n",
    "\n",
    "displacy.render(doc)"
   ]
  },
  {
   "cell_type": "code",
   "execution_count": 55,
   "metadata": {},
   "outputs": [
    {
     "data": {
      "text/plain": [
       "'nominal subject'"
      ]
     },
     "execution_count": 55,
     "metadata": {},
     "output_type": "execute_result"
    }
   ],
   "source": [
    "# We can ask spacy to explain what this relationships mean \n",
    "spacy.explain(\"nsubj\")"
   ]
  },
  {
   "cell_type": "markdown",
   "metadata": {},
   "source": [
    "## Training data\n",
    "\n",
    "* Option1: Amazon (Alexa) reviews (biased towards positive reviews)\n",
    "* Option2: IMDB (reviews)\n",
    "* Option3: 160k tweets with no emoticons from product reviews \n",
    "\n",
    "We are going to use the IMDB dataset first \n",
    "\n",
    "* Dataset from IMDB with comprises positive and negative reviews. This data is public. \n",
    "* We can train our spaCy pipeline with this data to predict the sentiment of someones' Tweets\n"
   ]
  },
  {
   "cell_type": "code",
   "execution_count": 4,
   "metadata": {},
   "outputs": [],
   "source": [
    "\n",
    "# Dataset \n",
    "#df_amazon = pd.read_csv (\"datasets/amazon_alexa.tsv\", sep=\"\\t\")\n",
    "df_amazon = pd.read_csv('datasets/imdb_train_25k_binary.csv', sep ='\\t\\t', engine = 'python')\n",
    "#df_amazon.feedback.value_counts()\n",
    "\n",
    "# Split Train / Test \n",
    "# For alexa \n",
    "#X = df_amazon['verified_reviews'] # the actual data \n",
    "# For IMDB\n",
    "X = df_amazon['text_processed']\n",
    "# Here are our supervised annotations \n",
    "#ylabels = df_amazon['feedback'] # positive or negative: given by the users \n",
    "\n",
    "#For IMDB\n",
    "ylabels = df_amazon['score']\n",
    "\n",
    "\n",
    "# Generate train/test splits \n",
    "X_train, X_test, y_train, y_test = train_test_split(X, ylabels, test_size = 0.3)"
   ]
  },
  {
   "cell_type": "markdown",
   "metadata": {},
   "source": [
    "### The classification pipeline\n",
    "* A tokenizer (prepares the doc and cleans stop words, etc)\n",
    "* Vectorizer: transform words into vectors for the classifier (TF/IDF)\n",
    "* A classifier: Here we use logistic regression but other sklearn models would also work "
   ]
  },
  {
   "cell_type": "code",
   "execution_count": 42,
   "metadata": {},
   "outputs": [
    {
     "name": "stdout",
     "output_type": "stream",
     "text": [
      "Wall time: 8min 11s\n"
     ]
    },
    {
     "name": "stderr",
     "output_type": "stream",
     "text": [
      "C:\\Users\\bacte\\anaconda3\\envs\\twitter\\lib\\site-packages\\sklearn\\linear_model\\_logistic.py:763: ConvergenceWarning: lbfgs failed to converge (status=1):\n",
      "STOP: TOTAL NO. of ITERATIONS REACHED LIMIT.\n",
      "\n",
      "Increase the number of iterations (max_iter) or scale the data as shown in:\n",
      "    https://scikit-learn.org/stable/modules/preprocessing.html\n",
      "Please also refer to the documentation for alternative solver options:\n",
      "    https://scikit-learn.org/stable/modules/linear_model.html#logistic-regression\n",
      "  n_iter_i = _check_optimize_result(\n"
     ]
    },
    {
     "data": {
      "text/plain": [
       "Pipeline(steps=[('cleaner', <__main__.predictors object at 0x0000016CFA3F9970>),\n",
       "                ('vectorizer',\n",
       "                 CountVectorizer(tokenizer=<function spacy_tokenizer at 0x0000016CCFCB2D30>)),\n",
       "                ('classifier', LogisticRegression())])"
      ]
     },
     "execution_count": 42,
     "metadata": {},
     "output_type": "execute_result"
    }
   ],
   "source": [
    "%%time\n",
    "from sklearn.linear_model import LogisticRegression\n",
    "from sklearn.svm import LinearSVC\n",
    "\n",
    "\n",
    "\n",
    "# Initialize our functions\n",
    "# ngram_range: how many words to consider at once? Default 1 but it can do pairs for correlations \n",
    "# Returns the number of times a word occurs in a corpus \n",
    "bow_vector = CountVectorizer(tokenizer = spacy_tokenizer, ngram_range=(1,1))\n",
    "\n",
    "# scikit-learn TfidVectorizer:\n",
    "# A Term frequency - inverse document freq matrix \n",
    "tfidf_vector = TfidfVectorizer(tokenizer = spacy_tokenizer)\n",
    "\n",
    "# Also look at this pipeline using SVM \n",
    "# https://towardsdatascience.com/machine-learning-for-text-classification-using-spacy-in-python-b276b4051a49\n",
    "\n",
    "# We are using log regression here, but we can also try other clf methods\n",
    "classifier = LogisticRegression() \n",
    "#classifier = LinearSVC()\n",
    "\n",
    "# Then, we’ll create a pipeline with three components: a cleaner, a vectorizer, and a classifier. \n",
    "# The cleaner uses our predictors class object to clean and preprocess the text. The vectorizer \n",
    "# uses countvector objects to create the bag of words matrix for our text. \n",
    "# The classifier is an object that performs the logistic regression to classify the sentiments.\n",
    "\n",
    "pipe = Pipeline( [('cleaner', predictors()),  # transform clean\n",
    "                   ('vectorizer', bow_vector), # transform to matrix frequency \n",
    "                   ('classifier', classifier)]) # Logistic regression \n",
    "\n",
    "\n",
    "\n",
    "pipe.fit(X_train, y_train)"
   ]
  },
  {
   "cell_type": "code",
   "execution_count": 43,
   "metadata": {
    "scrolled": true
   },
   "outputs": [
    {
     "name": "stdout",
     "output_type": "stream",
     "text": [
      "Wall time: 3min 29s\n"
     ]
    }
   ],
   "source": [
    "%%time\n",
    "# Predict the test dataset \n",
    "from sklearn import metrics\n",
    "\n",
    "predicted = pipe.predict(X_test)"
   ]
  },
  {
   "cell_type": "code",
   "execution_count": 30,
   "metadata": {
    "scrolled": true
   },
   "outputs": [
    {
     "data": {
      "text/plain": [
       "(\"Being a fan of cheesy horror movies, I saw this in my video shop and thought I would give it a try. Now that I've seen it I wish it upon no living soul on the planet. I get my movie rentals for free, and I feel that I didn't get my moneys worth. I've seen some bad cheesy horror movies in my time, hell I'm a fan of them, but this was just an insult.\",\n",
       " 0,\n",
       " 0)"
      ]
     },
     "execution_count": 30,
     "metadata": {},
     "output_type": "execute_result"
    }
   ],
   "source": [
    "# Look at individual predictions \n",
    "i = 10\n",
    "X_test.values[i],predicted[i], y_test.values[i]"
   ]
  },
  {
   "cell_type": "markdown",
   "metadata": {},
   "source": [
    "## Accuracy \n",
    "The Logistic regression model already acomplishes ~0.87 accuracy and ~0.87 precision on the IMDB dataset which is pretty good to start with. \n",
    "We can now get some twitter data and start classifying!"
   ]
  },
  {
   "cell_type": "code",
   "execution_count": 44,
   "metadata": {
    "scrolled": true
   },
   "outputs": [
    {
     "name": "stdout",
     "output_type": "stream",
     "text": [
      "Logistic Regression Accuracy: 0.8696\n",
      "Logistic Regression Precision: 0.8686842105263158\n",
      "Logistic Regression Recall: 0.8732804232804233\n"
     ]
    }
   ],
   "source": [
    "# Model Accuracy\n",
    "print(\"Logistic Regression Accuracy:\",metrics.accuracy_score(y_test, predicted))\n",
    "print(\"Logistic Regression Precision:\",metrics.precision_score(y_test, predicted))\n",
    "print(\"Logistic Regression Recall:\",metrics.recall_score(y_test, predicted))"
   ]
  },
  {
   "cell_type": "markdown",
   "metadata": {},
   "source": [
    "# Twitter sentiment \n",
    "Now that we have a good sentiment classifier we can proceed to download Tweets and assign them sentiment predictions with out spaCy pipeline. \n",
    "\n",
    "## Get data from Twitter \n",
    "We are uisng tweepy, we need to setup our account to get access keys.\n",
    "\n",
    "Once we have the keys we can run the following code.\n",
    "For security purposes I added my keys on a separte config.py file that I can just import. "
   ]
  },
  {
   "cell_type": "code",
   "execution_count": 87,
   "metadata": {},
   "outputs": [
    {
     "name": "stdout",
     "output_type": "stream",
     "text": [
      "Wall time: 41.6 s\n"
     ]
    },
    {
     "data": {
      "text/plain": [
       "3224"
      ]
     },
     "execution_count": 87,
     "metadata": {},
     "output_type": "execute_result"
    }
   ],
   "source": [
    "%%time\n",
    "import datetime\n",
    "import re \n",
    "import tweepy \n",
    "from tweepy import OAuthHandler \n",
    "from textblob import TextBlob \n",
    "import pandas as pd\n",
    "\n",
    "# Keep you keys on a separate file \n",
    "import config \n",
    "\n",
    "consumer_key = config.consumer_key\n",
    "consumer_secret = config.consumer_secret \n",
    "\n",
    "# Log in Twitter API \n",
    "auth = tweepy.AppAuthHandler(consumer_key, consumer_secret)\n",
    "#auth.set_access_token(access_token, access_token_secret)\n",
    "api = tweepy.API(auth)\n",
    "\n",
    "tweets = []\n",
    "sentiments = []\n",
    "\n",
    "for tweet in tweepy.Cursor(api.user_timeline, screen_name='@jimcramer' ).items():\n",
    "    tweets.append(tweet)\n",
    "    \n",
    "# 100 tweets almost immediate     \n",
    "# 1000 tweets in 10 seconds \n",
    "# 3k tweets in 30 seconds (default when no )\n",
    "len(tweets)"
   ]
  },
  {
   "cell_type": "code",
   "execution_count": 56,
   "metadata": {},
   "outputs": [
    {
     "name": "stdout",
     "output_type": "stream",
     "text": [
      "Wall time: 15.1 s\n"
     ]
    }
   ],
   "source": [
    "%%time\n",
    "# Extract the text from the list of tweets : \n",
    "texts = [tweet.text for tweet in tweets]\n",
    "# Here we use the classifier from spaCy \n",
    "predicted = pipe.predict(pd.Series(texts))"
   ]
  },
  {
   "cell_type": "code",
   "execution_count": 94,
   "metadata": {
    "scrolled": true
   },
   "outputs": [
    {
     "data": {
      "text/html": [
       "<div>\n",
       "<style scoped>\n",
       "    .dataframe tbody tr th:only-of-type {\n",
       "        vertical-align: middle;\n",
       "    }\n",
       "\n",
       "    .dataframe tbody tr th {\n",
       "        vertical-align: top;\n",
       "    }\n",
       "\n",
       "    .dataframe thead th {\n",
       "        text-align: right;\n",
       "    }\n",
       "</style>\n",
       "<table border=\"1\" class=\"dataframe\">\n",
       "  <thead>\n",
       "    <tr style=\"text-align: right;\">\n",
       "      <th></th>\n",
       "      <th>textblob</th>\n",
       "      <th>spacy</th>\n",
       "      <th>7day_textblob</th>\n",
       "      <th>7day_spacy</th>\n",
       "    </tr>\n",
       "    <tr>\n",
       "      <th>Date</th>\n",
       "      <th></th>\n",
       "      <th></th>\n",
       "      <th></th>\n",
       "      <th></th>\n",
       "    </tr>\n",
       "  </thead>\n",
       "  <tbody>\n",
       "    <tr>\n",
       "      <th>2020-10-21</th>\n",
       "      <td>0.162432</td>\n",
       "      <td>0.750000</td>\n",
       "      <td>NaN</td>\n",
       "      <td>NaN</td>\n",
       "    </tr>\n",
       "    <tr>\n",
       "      <th>2020-10-22</th>\n",
       "      <td>0.231432</td>\n",
       "      <td>0.595238</td>\n",
       "      <td>NaN</td>\n",
       "      <td>NaN</td>\n",
       "    </tr>\n",
       "    <tr>\n",
       "      <th>2020-10-23</th>\n",
       "      <td>0.083780</td>\n",
       "      <td>0.631579</td>\n",
       "      <td>NaN</td>\n",
       "      <td>NaN</td>\n",
       "    </tr>\n",
       "    <tr>\n",
       "      <th>2020-10-24</th>\n",
       "      <td>0.294683</td>\n",
       "      <td>0.733333</td>\n",
       "      <td>0.134535</td>\n",
       "      <td>0.654697</td>\n",
       "    </tr>\n",
       "    <tr>\n",
       "      <th>2020-10-25</th>\n",
       "      <td>0.021993</td>\n",
       "      <td>0.727273</td>\n",
       "      <td>0.114850</td>\n",
       "      <td>0.633722</td>\n",
       "    </tr>\n",
       "  </tbody>\n",
       "</table>\n",
       "</div>"
      ],
      "text/plain": [
       "            textblob     spacy  7day_textblob  7day_spacy\n",
       "Date                                                     \n",
       "2020-10-21  0.162432  0.750000            NaN         NaN\n",
       "2020-10-22  0.231432  0.595238            NaN         NaN\n",
       "2020-10-23  0.083780  0.631579            NaN         NaN\n",
       "2020-10-24  0.294683  0.733333       0.134535    0.654697\n",
       "2020-10-25  0.021993  0.727273       0.114850    0.633722"
      ]
     },
     "execution_count": 94,
     "metadata": {},
     "output_type": "execute_result"
    }
   ],
   "source": [
    "# Analyze only tweets in the given date range using Text Blob \n",
    "startDate = datetime.datetime(2014, 6, 1, 0, 0, 0)\n",
    "endDate =   datetime.datetime(2021, 1, 31, 0, 0, 0) # last day of 2020\n",
    "def get_tweet_sentiment(tweet): \n",
    "\n",
    "    clean_tweet = ' '.join(re.sub(\"(@[A-Za-z0-9]+)|([^0-9A-Za-z \\t]) |(\\w+:\\/\\/\\S+)\", \" \", tweet).split())\n",
    "    # create TextBlob object of passed tweet text \n",
    "    analysis = TextBlob(clean_tweet) \n",
    "    return(analysis.sentiment.polarity)\n",
    "\n",
    "parsed_tweets = []\n",
    "sentiments = []\n",
    "dates  = []\n",
    "tweet_list = []\n",
    "for tweet in tweets:\n",
    "    if tweet.created_at < endDate and tweet.created_at > startDate: # only if they were created during the data range \n",
    "        parsed_tweets.append(tweet)\n",
    "        sentiments.append( get_tweet_sentiment(tweet.text))\n",
    "        dates.append(tweet.created_at.strftime(\"%m/%d/%Y\"))\n",
    "        tweet_list.append(tweet.text)\n",
    "\n",
    "\n",
    "# Let's run the spacy pipeline with the subset of tweets that fell within the range\n",
    "texts = [tweet.text for tweet in parsed_tweets]\n",
    "spacy_sentiment = pipe.predict(pd.Series(texts))\n",
    "\n",
    "        \n",
    "sentiment_ts = pd.DataFrame({'Date': dates, 'textblob': sentiments, \n",
    "                             'spacy': spacy_sentiment, 'tweet':tweet_list})\n",
    "\n",
    "sentiment_ts['Date'] =pd.to_datetime(sentiment_ts.Date)\n",
    "sentiment_ts.sort_values('Date') # This now sorts in date order \n",
    "sentiment_daily = sentiment_ts.groupby('Date').mean() # we take the average daily sentiment \n",
    "\n",
    "# 7 day window average \n",
    "sentiment_daily['7day_textblob'] = sentiment_daily.textblob.rolling(7).mean().shift(-3)\n",
    "sentiment_daily['7day_spacy'] = sentiment_daily.spacy.rolling(7).mean().shift(-3)\n",
    "\n",
    "sentiment_daily.head()"
   ]
  },
  {
   "cell_type": "code",
   "execution_count": 96,
   "metadata": {},
   "outputs": [
    {
     "data": {
      "text/html": [
       "<div>\n",
       "<style scoped>\n",
       "    .dataframe tbody tr th:only-of-type {\n",
       "        vertical-align: middle;\n",
       "    }\n",
       "\n",
       "    .dataframe tbody tr th {\n",
       "        vertical-align: top;\n",
       "    }\n",
       "\n",
       "    .dataframe thead th {\n",
       "        text-align: right;\n",
       "    }\n",
       "</style>\n",
       "<table border=\"1\" class=\"dataframe\">\n",
       "  <thead>\n",
       "    <tr style=\"text-align: right;\">\n",
       "      <th></th>\n",
       "      <th>Date</th>\n",
       "      <th>textblob</th>\n",
       "      <th>spacy</th>\n",
       "      <th>tweet</th>\n",
       "    </tr>\n",
       "  </thead>\n",
       "  <tbody>\n",
       "    <tr>\n",
       "      <th>0</th>\n",
       "      <td>2021-01-29</td>\n",
       "      <td>-0.050</td>\n",
       "      <td>1</td>\n",
       "      <td>We don't know what price the shorts closed out...</td>\n",
       "    </tr>\n",
       "    <tr>\n",
       "      <th>1</th>\n",
       "      <td>2021-01-29</td>\n",
       "      <td>0.050</td>\n",
       "      <td>1</td>\n",
       "      <td>We need to have the government enforce the cap...</td>\n",
       "    </tr>\n",
       "    <tr>\n",
       "      <th>2</th>\n",
       "      <td>2021-01-29</td>\n",
       "      <td>0.000</td>\n",
       "      <td>0</td>\n",
       "      <td>It is a shame what i am seeing here. I don't m...</td>\n",
       "    </tr>\n",
       "    <tr>\n",
       "      <th>3</th>\n",
       "      <td>2021-01-29</td>\n",
       "      <td>0.275</td>\n",
       "      <td>1</td>\n",
       "      <td>I am willing to grant that GameStop is worth t...</td>\n",
       "    </tr>\n",
       "    <tr>\n",
       "      <th>4</th>\n",
       "      <td>2021-01-29</td>\n",
       "      <td>-0.400</td>\n",
       "      <td>1</td>\n",
       "      <td>I have NO skin in the game. I do not play for ...</td>\n",
       "    </tr>\n",
       "    <tr>\n",
       "      <th>...</th>\n",
       "      <td>...</td>\n",
       "      <td>...</td>\n",
       "      <td>...</td>\n",
       "      <td>...</td>\n",
       "    </tr>\n",
       "    <tr>\n",
       "      <th>2970</th>\n",
       "      <td>2020-10-21</td>\n",
       "      <td>0.000</td>\n",
       "      <td>1</td>\n",
       "      <td>About ten years ago. Value people can bet on i...</td>\n",
       "    </tr>\n",
       "    <tr>\n",
       "      <th>2971</th>\n",
       "      <td>2020-10-21</td>\n",
       "      <td>-0.200</td>\n",
       "      <td>0</td>\n",
       "      <td>How about Stark Industries leaving the defense...</td>\n",
       "    </tr>\n",
       "    <tr>\n",
       "      <th>2972</th>\n",
       "      <td>2020-10-21</td>\n",
       "      <td>0.450</td>\n",
       "      <td>1</td>\n",
       "      <td>Fabulous.. they have never mattered more https...</td>\n",
       "    </tr>\n",
       "    <tr>\n",
       "      <th>2973</th>\n",
       "      <td>2020-10-21</td>\n",
       "      <td>0.000</td>\n",
       "      <td>1</td>\n",
       "      <td>We are all wiser for our children's advice. My...</td>\n",
       "    </tr>\n",
       "    <tr>\n",
       "      <th>2974</th>\n",
       "      <td>2020-10-21</td>\n",
       "      <td>0.000</td>\n",
       "      <td>0</td>\n",
       "      <td>@Stephanie_Link I totally agree. I had Ned on,...</td>\n",
       "    </tr>\n",
       "  </tbody>\n",
       "</table>\n",
       "<p>2975 rows × 4 columns</p>\n",
       "</div>"
      ],
      "text/plain": [
       "           Date  textblob  spacy  \\\n",
       "0    2021-01-29    -0.050      1   \n",
       "1    2021-01-29     0.050      1   \n",
       "2    2021-01-29     0.000      0   \n",
       "3    2021-01-29     0.275      1   \n",
       "4    2021-01-29    -0.400      1   \n",
       "...         ...       ...    ...   \n",
       "2970 2020-10-21     0.000      1   \n",
       "2971 2020-10-21    -0.200      0   \n",
       "2972 2020-10-21     0.450      1   \n",
       "2973 2020-10-21     0.000      1   \n",
       "2974 2020-10-21     0.000      0   \n",
       "\n",
       "                                                  tweet  \n",
       "0     We don't know what price the shorts closed out...  \n",
       "1     We need to have the government enforce the cap...  \n",
       "2     It is a shame what i am seeing here. I don't m...  \n",
       "3     I am willing to grant that GameStop is worth t...  \n",
       "4     I have NO skin in the game. I do not play for ...  \n",
       "...                                                 ...  \n",
       "2970  About ten years ago. Value people can bet on i...  \n",
       "2971  How about Stark Industries leaving the defense...  \n",
       "2972  Fabulous.. they have never mattered more https...  \n",
       "2973  We are all wiser for our children's advice. My...  \n",
       "2974  @Stephanie_Link I totally agree. I had Ned on,...  \n",
       "\n",
       "[2975 rows x 4 columns]"
      ]
     },
     "execution_count": 96,
     "metadata": {},
     "output_type": "execute_result"
    }
   ],
   "source": [
    "sentiment_ts"
   ]
  },
  {
   "cell_type": "code",
   "execution_count": 98,
   "metadata": {},
   "outputs": [
    {
     "data": {
      "text/plain": [
       "(92, 4)"
      ]
     },
     "execution_count": 98,
     "metadata": {},
     "output_type": "execute_result"
    },
    {
     "data": {
      "image/png": "[encoded data removed]",
      "text/plain": [
       "<Figure size 432x288 with 1 Axes>"
      ]
     },
     "metadata": {
      "needs_background": "light"
     },
     "output_type": "display_data"
    }
   ],
   "source": [
    "import seaborn as sns\n",
    "sns.scatterplot(data = sentiment_daily, x = 'textblob', y = 'spacy',\n",
    "                s=10, color=\".2\", marker=\"+\").set_title(\"Daily sentiment spaCy vs TextBlob\")\n",
    "sentiment_daily.shape"
   ]
  },
  {
   "cell_type": "code",
   "execution_count": 101,
   "metadata": {},
   "outputs": [
    {
     "data": {
      "text/plain": [
       "Text(0.5, 1.0, 'spaCy vs Textblob regression')"
      ]
     },
     "execution_count": 101,
     "metadata": {},
     "output_type": "execute_result"
    },
    {
     "data": {
      "image/png": "[encoded data removed]",
      "text/plain": [
       "<Figure size 432x288 with 1 Axes>"
      ]
     },
     "metadata": {
      "needs_background": "light"
     },
     "output_type": "display_data"
    }
   ],
   "source": [
    "sns.regplot(data = sentiment_daily, x ='textblob', y ='spacy', \n",
    "            marker = \"+\").set_title(\"spaCy vs Textblob regression\")"
   ]
  },
  {
   "cell_type": "code",
   "execution_count": 103,
   "metadata": {},
   "outputs": [
    {
     "data": {
      "text/plain": [
       "Text(0.5, 1.0, 'spaCy vs Textblob 7-day MA')"
      ]
     },
     "execution_count": 103,
     "metadata": {},
     "output_type": "execute_result"
    },
    {
     "data": {
      "image/png": "[encoded data removed]",
      "text/plain": [
       "<Figure size 432x288 with 1 Axes>"
      ]
     },
     "metadata": {
      "needs_background": "light"
     },
     "output_type": "display_data"
    }
   ],
   "source": [
    "# Let's compare the moving averages \n",
    "# this should give us a better correlation since we are removing some noise \n",
    "\n",
    "sns.regplot(data = sentiment_daily, x ='7day_textblob', \n",
    "            y ='7day_spacy', marker =\"+\" ).set_title(\"spaCy vs Textblob 7-day MA\")"
   ]
  },
  {
   "cell_type": "markdown",
   "metadata": {},
   "source": [
    "## Plot sentiment as time-series\n"
   ]
  },
  {
   "cell_type": "code",
   "execution_count": 104,
   "metadata": {},
   "outputs": [
    {
     "data": {
      "text/plain": [
       "Text(0.5, 1.0, 'Average sentiment (7 day MA)')"
      ]
     },
     "execution_count": 104,
     "metadata": {},
     "output_type": "execute_result"
    },
    {
     "data": {
      "image/png": "[encoded data removed]",
      "text/plain": [
       "<Figure size 1152x432 with 1 Axes>"
      ]
     },
     "metadata": {
      "needs_background": "light"
     },
     "output_type": "display_data"
    }
   ],
   "source": [
    "import matplotlib.dates as mdates \n",
    "import matplotlib.pyplot as plt \n",
    "\n",
    "sentiment_daily.index = pd.to_datetime(sentiment_daily.index)\n",
    "\n",
    "sns.set_context(\"talk\")\n",
    "\n",
    "fig, ax = plt.subplots(figsize=(16, 6))\n",
    "\n",
    "#plt.figure(figsize=(16, 6))\n",
    "\n",
    "sns.lineplot(data = sentiment_daily, x = 'Date', y='spacy', label ='Daily', ci = None)\n",
    "\n",
    "sns.lineplot(data =sentiment_daily, x = 'Date', y ='7day_spacy', label = '7-day ave',\n",
    "            ci = None)\n",
    "\n",
    "fig.autofmt_xdate() \n",
    "\n",
    "plt.xlabel('Date', size = 14)\n",
    "plt.ylabel('Tweet sentiment')\n",
    "plt.title('Average sentiment (7 day MA)')\n"
   ]
  },
  {
   "cell_type": "markdown",
   "metadata": {},
   "source": [
    "## Additional references \n",
    "\n",
    "* https://realpython.com/sentiment-analysis-python/#using-natural-language-processing-to-preprocess-and-clean-text-data"
   ]
  },
  {
   "cell_type": "code",
   "execution_count": null,
   "metadata": {},
   "outputs": [],
   "source": []
  }
 ],
 "metadata": {
  "kernelspec": {
   "display_name": "Python 3",
   "language": "python",
   "name": "python3"
  },
  "language_info": {
   "codemirror_mode": {
    "name": "ipython",
    "version": 3
   },
   "file_extension": ".py",
   "mimetype": "text/x-python",
   "name": "python",
   "nbconvert_exporter": "python",
   "pygments_lexer": "ipython3",
   "version": "3.8.5"
  }
 },
 "nbformat": 4,
 "nbformat_minor": 4
}
