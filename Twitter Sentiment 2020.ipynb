{
 "cells": [
  {
   "cell_type": "code",
   "execution_count": 3,
   "metadata": {},
   "outputs": [],
   "source": [
    "import re \n",
    "import tweepy \n",
    "from tweepy import OAuthHandler \n",
    "from textblob import TextBlob \n",
    "import pandas as pd"
   ]
  },
  {
   "cell_type": "code",
   "execution_count": 4,
   "metadata": {},
   "outputs": [
    {
     "name": "stdout",
     "output_type": "stream",
     "text": [
      "RT @EricBla90829613: También construcción de 2750 sucursales del BANCO DEL BIENESTAR y su administración. AMLO, quien aborrecía al Ejército…\n",
      "RT @qtf: “El Tren Maya de la vergüenza”: la fuerte crítica del diario italiano La Reppublica contra la “magna” obra de AMLO - Infobae https…\n",
      "RT @Consuelolvare11: @DEMIANRIVERA @lopezobrador_ #YoCreoEnLopezObrador \n",
      "\n",
      "Ante todo AMLO es presidente de todos los mexicanos y la vacuna s…\n",
      "RT @me_duele_mexico: La vacuna de AstraZeneca la consiguió la fundación Carlos Slim.\n",
      "Chairo: AMLO bueno, darme despensa, darme atole, tu ma…\n",
      "RT @DrRalGalindo1: Seguiré luchando por el Mexico que todos queremos. \n",
      "\n",
      "Viva la 4T!!!\n",
      "Viva AMLO \n",
      "#YoCreoEnLopezObrador \n",
      "\n",
      "Voto masivo para M…\n",
      "RT @revistapolemon: Pese a la pandemia, la recuperación económica de México 🇲🇽 con el Presidente @lopezobrador_ es una realidad 😎👊\n",
      "\n",
      "https:/…\n",
      "RT @Consuelolvare11: @DEMIANRIVERA @lopezobrador_ #YoCreoEnLopezObrador \n",
      "\n",
      "Ante todo AMLO es presidente de todos los mexicanos y la vacuna s…\n",
      "RT @AlExCoL06: #Amlo porqué esta haciendo mucho frío en toda la república ??? Ya viene año nuevo y queremos salir a celebrar. 🤦‍♂️🤦‍♂️🤦‍♂️.…\n",
      "RT @eugpe: Entonces, millones de mexicanos ricos y pobres tendrían acceso más rápido a la vacuna. El país ganaría salud y en la cabeza de A…\n",
      "RT @rene_pg: Gobierno clandestino plagado de incompetentes ignorantes mezquinos falsarios y rateros!\n",
      "#NiUnVotoAMORENA2021 \n",
      "\n",
      "#VotandoSeVan…\n"
     ]
    }
   ],
   "source": [
    "# authentication issues \n",
    "# https://stackoverflow.com/questions/37626253/authentication-failure-with-code-32\n",
    "\n",
    "# Main tutorial \n",
    "# http://docs.tweepy.org/en/latest/auth_tutorial.html\n",
    "\n",
    "consumer_key = 'krqMjrz9CX47w1bAKmgUxgOvy'\n",
    "consumer_secret = 'ck0N29BfNva235PmiVkLenOt2vDAE7veNly4YHKj17pgF5qThA'\n",
    "#access_token = '1076160163722248193-Akv2lZjA6S1mqG9ClFgU3ABu74Dw7b'\n",
    "#access_token_secret = '9VvNgdD8xQKqm9TZSE9dSTkmC9uthUWzwIexGVS2H7ozh'\n",
    "\n",
    "\n",
    "auth = tweepy.AppAuthHandler(consumer_key, consumer_secret)\n",
    "#auth.set_access_token(access_token, access_token_secret)\n",
    "api = tweepy.API(auth)\n",
    "\n",
    "for tweet in tweepy.Cursor(api.search, q='AMLO').items(10):\n",
    "    print(tweet.text)"
   ]
  },
  {
   "cell_type": "code",
   "execution_count": 34,
   "metadata": {},
   "outputs": [
    {
     "name": "stdout",
     "output_type": "stream",
     "text": [
      "Positive tweets percentage: 37.03703703703704 %\n",
      "Negative tweets percentage: 19.753086419753085 %\n",
      "Neutral tweets percentage: 43.20987654320987 %\n",
      "\n",
      "\n",
      "Positive tweets:\n",
      "RT @realDonaldTrump: STOCK MARKET REACHES NEW ALL-TIME HIGH!\n",
      "3 High-Flying Stocks that Should Move Higher\n",
      " https://t.co/cQoVdApGEn\n",
      "RT @adamcbest: If trickle-down economics worked at all, like even a teeny-tiny bit, people wouldn’t be flocking to food banks right as the…\n",
      "RT @Investor_stockM: In Stock market..... \n",
      "\n",
      "Long term always Win Against Short term.\n",
      "@Munna28455654 It is important to note that even though the intrinsic value may be x, the market should be willing… https://t.co/tCCeFcHdJy\n",
      "@808sandU3O8 @TBirdV @omnipotent32 Don’t think it implies that at all. Many commodities have dozens of cycles under… https://t.co/VgNC6irUPg\n",
      "Sure a paycheck from the Stock Market. #GEORGIA https://t.co/wxhyYXbo0x\n",
      "i never know this stock market issue was this fun lmao\n",
      "@themukulagrawal The real fact of stock market.\n",
      "The Dow Jones Industrial Average (DJIA) is perhaps the most widely followed stock market index in the world. Yet, v… https://t.co/Mq8uQsSroS\n",
      "\n",
      "\n",
      "Negative tweets:\n",
      "@Gottlieb007 @Yahoo No one can time the market so people use \"Dollar-cost Average\" method. It is an investment stra… https://t.co/1OgLzEscXF\n",
      "RT @HawaiiDelilah: @realDonaldTrump The stock market is not the economy. The jobs report today was terrible because in the real economy, mi…\n",
      "RT @eBargainsToday: A ‘Santa Claus Rally’ for the Stock Market?: Since 1969, 34 out of 45 years have seen a late December rally. Here are 5…\n",
      "RT @steveagee: this is the twat who bought stock in PPE after a coronavirus briefing and sold a bunch of other stock before the market cras…\n",
      "my poor boyfriend trying to explain the stock market to me and I’m still like 👁👄👁 after 2 hours\n",
      "RT @Schuldensuehner: What can go WRONG? Global stock market cap hit fresh ATH this week at almost $100 TRILLION as investors learned that i…\n",
      "RT @AmyBlueGal2020: He is absolutely Clueless!!!  I’ve NEVER hated anyone as much as I hate the 🍊💩🤡. \n",
      "\n",
      "@realDonaldTrump is the WORST Presid…\n",
      "@AkilahObviously I've been wondering this with the stock market as well. It feels like it's all being artificially… https://t.co/FpYx29rndW\n",
      "RT @Nate_McMurray: The stock market is booming. Yet a job crisis is looming on the other side of this crisis. There just isn’t enough work,…\n",
      "I admit that the stock market is booming, largely due to the massive cash dumps trump has flooded the market with,… https://t.co/2B7OHzHHkm\n"
     ]
    }
   ],
   "source": [
    "# Main tutorial\n",
    "# Sentiment analysis using the Twitter API\n",
    "# Nov 28th \n",
    "# https://www.geeksforgeeks.org/twitter-sentiment-analysis-using-python/    \n",
    "    \n",
    "# Token account: bacterimuerta    \n",
    "# The name of the class is TwitterClient     \n",
    "class TwitterClient(object): \n",
    "    ''' \n",
    "    Generic Twitter Class for sentiment analysis. \n",
    "    '''\n",
    "    # No parameters for inti method \n",
    "    # this class is initialized as an empty object. \n",
    "    # init method basically logs in the twitter api and creates the api object \n",
    "    def __init__(self): \n",
    "        ''' \n",
    "        Class constructor or initialization method. \n",
    "        '''\n",
    "        # keys and tokens from the Twitter Dev Console \n",
    "        # Dec 2 2020: Update from bacteriamuerta account\n",
    "        consumer_key = 'krqMjrz9CX47w1bAKmgUxgOvy'\n",
    "        consumer_secret = 'ck0N29BfNva235PmiVkLenOt2vDAE7veNly4YHKj17pgF5qThA'\n",
    "         \n",
    "        #access_token = '1076160163722248193-Akv2lZjA6S1mqG9ClFgU3ABu74Dw7b'\n",
    "        #access_token_secret = '9VvNgdD8xQKqm9TZSE9dSTkmC9uthUWzwIexGVS2H7ozh'\n",
    "  \n",
    "        # attempt authentication \n",
    "        try: \n",
    "            # create OAuthHandler object \n",
    "            # self.auth = tweepy.OAuthHandler(consumer_key, consumer_secret) \n",
    "            self.auth = tweepy.AppAuthHandler(consumer_key, consumer_secret)\n",
    "            # set access token and secret \n",
    "            #self.auth.set_access_token(access_token, access_token_secret) \n",
    "            # create tweepy API object to fetch tweets \n",
    "            #self.api = tweepy.API(self.auth) \n",
    "            self.api = tweepy.API(self.auth)\n",
    "        except: \n",
    "            print(\"Error: Authentication Failed\") \n",
    "  \n",
    "    def clean_tweet(self, tweet): \n",
    "        ''' \n",
    "        Utility function to clean tweet text by removing links, special characters \n",
    "        using simple regex statements. \n",
    "        '''\n",
    "        return ' '.join(re.sub(\"(@[A-Za-z0-9]+)|([^0-9A-Za-z \\t]) |(\\w+:\\/\\/\\S+)\", \" \", tweet).split()) \n",
    "  \n",
    "    def get_tweet_sentiment(self, tweet): \n",
    "        ''' \n",
    "        Utility function to classify sentiment of passed tweet \n",
    "        using textblob's sentiment method \n",
    "        '''\n",
    "        # create TextBlob object of passed tweet text \n",
    "        analysis = TextBlob(self.clean_tweet(tweet)) \n",
    "        # set sentiment \n",
    "        if analysis.sentiment.polarity > 0: \n",
    "            return 'positive'\n",
    "        elif analysis.sentiment.polarity == 0: \n",
    "            return 'neutral'\n",
    "        else: \n",
    "            return 'negative'\n",
    "  \n",
    "    def get_tweets(self, query, count = 10): \n",
    "        ''' \n",
    "        Main function to fetch tweets and parse them. \n",
    "        '''\n",
    "        # empty list to store parsed tweets \n",
    "        tweets = [] \n",
    "  \n",
    "        try: \n",
    "            # call twitter api to fetch tweets \n",
    "            fetched_tweets = self.api.search(q = query, count = count) \n",
    "  \n",
    "            # parsing tweets one by one \n",
    "            for tweet in fetched_tweets: \n",
    "                # empty dictionary to store required params of a tweet \n",
    "                parsed_tweet = {} \n",
    "  \n",
    "                # saving text of tweet \n",
    "                parsed_tweet['text'] = tweet.text \n",
    "                # saving sentiment of tweet  (it also does the cleaning )\n",
    "                parsed_tweet['sentiment'] = self.get_tweet_sentiment(tweet.text) \n",
    "  \n",
    "                # appending parsed tweet to tweets list \n",
    "                if tweet.retweet_count > 0: \n",
    "                    # if tweet has retweets, ensure that it is appended only once \n",
    "                    if parsed_tweet not in tweets: \n",
    "                        tweets.append(parsed_tweet) \n",
    "                else: \n",
    "                    tweets.append(parsed_tweet) \n",
    "  \n",
    "            # return parsed tweets \n",
    "            return tweets \n",
    "  \n",
    "        except tweepy.TweepError as e: \n",
    "            # print error (if any) \n",
    "            print(\"Error : \" + str(e)) \n",
    "  \n",
    "def main(): \n",
    "    # creating object of TwitterClient Class \n",
    "    api = TwitterClient() \n",
    "    # calling function to get tweets \n",
    "    tweets = api.get_tweets(query = 'stock market', count = 1000) \n",
    "  \n",
    "    # picking positive tweets from tweets \n",
    "    ptweets = [tweet for tweet in tweets if tweet['sentiment'] == 'positive'] \n",
    "    # percentage of positive tweets \n",
    "    print(\"Positive tweets percentage: {} %\".format(100*len(ptweets)/len(tweets))) \n",
    "    # picking negative tweets from tweets \n",
    "    ntweets = [tweet for tweet in tweets if tweet['sentiment'] == 'negative'] \n",
    "    # percentage of negative tweets \n",
    "    print(\"Negative tweets percentage: {} %\".format(100*len(ntweets)/len(tweets))) \n",
    "    # percentage of neutral tweets \n",
    "    print(\"Neutral tweets percentage: {} %\".format(100*(len(tweets) -(len( ntweets )+len( ptweets)))/len(tweets))) \n",
    "  \n",
    "    # printing first 5 positive tweets \n",
    "    print(\"\\n\\nPositive tweets:\") \n",
    "    for tweet in ptweets[:10]: \n",
    "        print(tweet['text']) \n",
    "  \n",
    "    # printing first 5 negative tweets \n",
    "    print(\"\\n\\nNegative tweets:\") \n",
    "    for tweet in ntweets[:10]: \n",
    "        print(tweet['text']) \n",
    "  \n",
    "if __name__ == \"__main__\": \n",
    "    # calling main function \n",
    "    main() \n"
   ]
  },
  {
   "cell_type": "markdown",
   "metadata": {},
   "source": [
    "# User timeline: daily sentiment \n",
    "https://stackoverflow.com/questions/49731259/tweepy-get-tweets-between-two-dates"
   ]
  },
  {
   "cell_type": "code",
   "execution_count": 5,
   "metadata": {},
   "outputs": [
    {
     "name": "stdout",
     "output_type": "stream",
     "text": [
      "CPU times: user 4.01 s, sys: 362 ms, total: 4.37 s\n",
      "Wall time: 38.7 s\n"
     ]
    },
    {
     "data": {
      "text/plain": [
       "3247"
      ]
     },
     "execution_count": 5,
     "metadata": {},
     "output_type": "execute_result"
    }
   ],
   "source": [
    "%%time\n",
    "import datetime\n",
    "\n",
    "\n",
    "# Log in Twitter API \n",
    "auth = tweepy.AppAuthHandler(consumer_key, consumer_secret)\n",
    "#auth.set_access_token(access_token, access_token_secret)\n",
    "api = tweepy.API(auth)\n",
    "\n",
    "# Which username to compute sentiment from \n",
    "username = 'realDonaldTrump'\n",
    "tweets = []\n",
    "sentiments = []\n",
    "\n",
    "for tweet in tweepy.Cursor(api.user_timeline, screen_name='@jimcramer' ).items():\n",
    "    tweets.append(tweet)\n",
    "    \n",
    "# 100 tweets almost immediate     \n",
    "# 1000 tweets in 10 seconds \n",
    "# 3k tweets in 30 seconds (default when no )\n",
    "len(tweets)"
   ]
  },
  {
   "cell_type": "code",
   "execution_count": 6,
   "metadata": {},
   "outputs": [
    {
     "name": "stdout",
     "output_type": "stream",
     "text": [
      "CPU times: user 946 ms, sys: 7.3 ms, total: 953 ms\n",
      "Wall time: 953 ms\n"
     ]
    },
    {
     "data": {
      "text/html": [
       "<div>\n",
       "<style scoped>\n",
       "    .dataframe tbody tr th:only-of-type {\n",
       "        vertical-align: middle;\n",
       "    }\n",
       "\n",
       "    .dataframe tbody tr th {\n",
       "        vertical-align: top;\n",
       "    }\n",
       "\n",
       "    .dataframe thead th {\n",
       "        text-align: right;\n",
       "    }\n",
       "</style>\n",
       "<table border=\"1\" class=\"dataframe\">\n",
       "  <thead>\n",
       "    <tr style=\"text-align: right;\">\n",
       "      <th></th>\n",
       "      <th>sentiment</th>\n",
       "      <th>7day_sentiment</th>\n",
       "    </tr>\n",
       "    <tr>\n",
       "      <th>Date</th>\n",
       "      <th></th>\n",
       "      <th></th>\n",
       "    </tr>\n",
       "  </thead>\n",
       "  <tbody>\n",
       "    <tr>\n",
       "      <th>2020-09-22</th>\n",
       "      <td>0.380342</td>\n",
       "      <td>NaN</td>\n",
       "    </tr>\n",
       "    <tr>\n",
       "      <th>2020-09-23</th>\n",
       "      <td>0.151722</td>\n",
       "      <td>NaN</td>\n",
       "    </tr>\n",
       "    <tr>\n",
       "      <th>2020-09-24</th>\n",
       "      <td>0.168493</td>\n",
       "      <td>NaN</td>\n",
       "    </tr>\n",
       "    <tr>\n",
       "      <th>2020-09-25</th>\n",
       "      <td>0.047947</td>\n",
       "      <td>0.200033</td>\n",
       "    </tr>\n",
       "    <tr>\n",
       "      <th>2020-09-26</th>\n",
       "      <td>0.214583</td>\n",
       "      <td>0.168574</td>\n",
       "    </tr>\n",
       "  </tbody>\n",
       "</table>\n",
       "</div>"
      ],
      "text/plain": [
       "            sentiment  7day_sentiment\n",
       "Date                                 \n",
       "2020-09-22   0.380342             NaN\n",
       "2020-09-23   0.151722             NaN\n",
       "2020-09-24   0.168493             NaN\n",
       "2020-09-25   0.047947        0.200033\n",
       "2020-09-26   0.214583        0.168574"
      ]
     },
     "execution_count": 6,
     "metadata": {},
     "output_type": "execute_result"
    }
   ],
   "source": [
    "%%time\n",
    "# Alternative to Textblob: for spanish\n",
    "# This solved the library problem with sciki-learn \n",
    "# https://stackoverflow.com/questions/46178199/python-sklearn-model-selection-giving-error-unable-to-import-comb\n",
    "\n",
    "# Install the classifier library\n",
    "#from classifier import SentimentClassifier\n",
    "#sent_classifier = SentimentClassifier()       \n",
    "# main function for sentiment using TextBlob\n",
    "def get_tweet_sentiment(tweet, clf_type = 1):\n",
    "    ''' \n",
    "    Utility function to classify sentiment of passed tweet \n",
    "    using textblob's sentiment method \n",
    "    '''\n",
    "    #clf = SentimentClassifier()\n",
    "    # make it clean from usernames and web links \n",
    "    # This line will remove all @username (@[A-Za-z0-9]+)\n",
    "    # www://whatever  (\\w+:\\/\\/\\S+)\n",
    "    # split() returns a list of strings \n",
    "    # to each string in the list, we add ' ' with ' '.join() \n",
    "    # beside those things, the tweet is still complete with prepositions, nouns, etc \n",
    "\n",
    "    clean_tweet = ' '.join(re.sub(\"(@[A-Za-z0-9]+)|([^0-9A-Za-z \\t]) |(\\w+:\\/\\/\\S+)\", \" \", tweet).split())\n",
    "    # create TextBlob object of passed tweet text \n",
    "    if clf_type ==1: \n",
    "        analysis = TextBlob(clean_tweet) \n",
    "        return(analysis.sentiment.polarity)\n",
    "    else: \n",
    "        #analysis = clf.predict(clean_tweet)\n",
    "        return(analysis)\n",
    "    # set sentiment \n",
    "    # we return the actual number so we can average easily over time \n",
    "    \n",
    "        \n",
    "    \n",
    "\n",
    "parsed_tweets = [] #clean tweets that fall within the data range we specified \n",
    "sentiments = [] \n",
    "dates = []\n",
    "sentiments_sp = []\n",
    "\n",
    "startDate = datetime.datetime(2014, 6, 1, 0, 0, 0)\n",
    "endDate =   datetime.datetime(2020, 12, 31, 0, 0, 0) # last day of 2020\n",
    "\n",
    "\n",
    "# Analyze only tweets in the given date range \n",
    "for tweet in tweets:\n",
    "    if tweet.created_at < endDate and tweet.created_at > startDate: # only if they were created during the data range \n",
    "        parsed_tweets.append(tweet)\n",
    "        sentiments.append( get_tweet_sentiment(tweet.text, clf_type = 1))\n",
    "        dates.append(tweet.created_at.strftime(\"%m/%d/%Y\"))\n",
    "        #sentiments_sp.append( get_tweet_sentiment(tweet.text, clf_type = 2))         # This classifier works with spanish training \n",
    "\n",
    "        \n",
    "#sentiment_ts = pd.DataFrame({'Date': dates, 'sentiment': sentiments, 'sentiment_ES': sentiments_sp})\n",
    "sentiment_ts = pd.DataFrame({'Date': dates, 'sentiment': sentiments})\n",
    "\n",
    "sentiment_ts['Date'] =pd.to_datetime(sentiment_ts.Date)\n",
    "sentiment_ts.sort_values('Date') # This now sorts in date order \n",
    "sentiment_daily = sentiment_ts.groupby('Date').mean() # we take the average daily sentiment \n",
    "\n",
    "\n",
    "# 7 day window average \n",
    "sentiment_daily['7day_sentiment'] = sentiment_daily.sentiment.rolling(7).mean().shift(-3)\n",
    "#sentiment_daily['7day_ES'] = sentiment_daily.sentiment_ES.rolling(7).mean().shift(-3)\n",
    "\n",
    "sentiment_daily.head()\n",
    "# 3.27 min to run 3k tweets "
   ]
  },
  {
   "cell_type": "code",
   "execution_count": 7,
   "metadata": {
    "scrolled": true
   },
   "outputs": [
    {
     "data": {
      "text/plain": [
       "Text(0, 0.5, 'Tweet Sentiment')"
      ]
     },
     "execution_count": 7,
     "metadata": {},
     "output_type": "execute_result"
    },
    {
     "data": {
      "image/png": "[encoded data removed]",
      "text/plain": [
       "<Figure size 432x288 with 1 Axes>"
      ]
     },
     "metadata": {
      "needs_background": "light"
     },
     "output_type": "display_data"
    }
   ],
   "source": [
    "import seaborn as sns \n",
    "import matplotlib.dates as mdates \n",
    "import matplotlib.pyplot as plt\n",
    "\n",
    "sentiment_daily.index = pd.to_datetime(sentiment_daily.index)\n",
    "# bigger plot elements suitable for giving talks\n",
    "sns.set_context(\"talk\")\n",
    "\n",
    "fig, ax = plt.subplots() \n",
    "sns.lineplot(data = sentiment_daily, x ='Date', y = 'sentiment',  label ='Daily', ci = None)\n",
    "\n",
    "sns.lineplot(data = sentiment_daily, x = 'Date', y = '7day_sentiment', label = '7-day ave', ci = None)\n",
    "fig.autofmt_xdate() \n",
    "\n",
    "plt.xlabel(\"Date\", size=14)\n",
    "plt.ylabel(\"Tweet Sentiment\", size=14)"
   ]
  },
  {
   "cell_type": "code",
   "execution_count": 31,
   "metadata": {
    "collapsed": true
   },
   "outputs": [
    {
     "data": {
      "text/plain": [
       "(146, 4)"
      ]
     },
     "execution_count": 31,
     "metadata": {},
     "output_type": "execute_result"
    },
    {
     "data": {
      "image/png": "[encoded data removed]",
      "text/plain": [
       "<Figure size 432x288 with 1 Axes>"
      ]
     },
     "metadata": {
      "needs_background": "light"
     },
     "output_type": "display_data"
    }
   ],
   "source": [
    "# If using Spanish classifier \n",
    "sns.scatterplot(data = sentiment_daily, x = 'sentiment', y = 'sentiment_ES',\n",
    "                s=10, color=\".2\", marker=\"+\")\n",
    "sentiment_daily.shape"
   ]
  },
  {
   "cell_type": "code",
   "execution_count": 8,
   "metadata": {},
   "outputs": [
    {
     "name": "stdout",
     "output_type": "stream",
     "text": [
      "fr\n",
      "¿Cómo estás tú?\n",
      "How are you?\n",
      "你好吗？\n"
     ]
    }
   ],
   "source": [
    "from textblob import TextBlob\n",
    " \n",
    "blob = TextBlob(\"Comment vas-tu?\")\n",
    " \n",
    "print(blob.detect_language())\n",
    " \n",
    "print(blob.translate(to='es'))\n",
    "print(blob.translate(to='en'))\n",
    "print(blob.translate(to='zh'))"
   ]
  },
  {
   "cell_type": "markdown",
   "metadata": {},
   "source": [
    "## Alternative: spaCY"
   ]
  },
  {
   "cell_type": "code",
   "execution_count": 16,
   "metadata": {},
   "outputs": [],
   "source": [
    "import spacy\n",
    "\n",
    "# Create the pipeline parser \n",
    "nlp = spacy.load(\"en_core_web_sm\")\n",
    "#spacy.load('en_core_web_sm')\n",
    "\n",
    "# Put all the tweets together as text objects \n",
    "# \n",
    "texts = []\n",
    "for tweet in tweets: \n",
    "    texts.append(tweet.text)\n",
    "\n",
    "len(texts)"
   ]
  },
  {
   "cell_type": "code",
   "execution_count": 15,
   "metadata": {
    "scrolled": true
   },
   "outputs": [
    {
     "data": {
      "text/plain": [
       "3247"
      ]
     },
     "execution_count": 15,
     "metadata": {},
     "output_type": "execute_result"
    }
   ],
   "source": []
  },
  {
   "cell_type": "code",
   "execution_count": 11,
   "metadata": {},
   "outputs": [
    {
     "name": "stdout",
     "output_type": "stream",
     "text": [
      "CPU times: user 6.52 s, sys: 1.27 s, total: 7.79 s\n",
      "Wall time: 7.81 s\n"
     ]
    }
   ],
   "source": [
    "%%time \n",
    "# Update Dec 27\n",
    "# Run the pipeline on each tweet \n",
    "# 3k tweets in 7.81 s \n",
    "\n",
    "# Run spacy on a list using the pipe function as opposed to for loop\n",
    "docs = list(nlp.pipe(texts))\n"
   ]
  },
  {
   "cell_type": "code",
   "execution_count": 13,
   "metadata": {},
   "outputs": [
    {
     "data": {
      "text/plain": [
       "[Only,\n",
       " a,\n",
       " few,\n",
       " spots,\n",
       " left,\n",
       " in,\n",
       " the,\n",
       " Triple,\n",
       " C,\n",
       " :,\n",
       " Cramer,\n",
       " 's,\n",
       " Cash,\n",
       " Contest,\n",
       " .,\n",
       " Get,\n",
       " in,\n",
       " on,\n",
       " the,\n",
       " action,\n",
       " on,\n",
       " @DraftKings,\n",
       " for,\n",
       " Week,\n",
       " 16,\n",
       " for,\n",
       " j,\n",
       " …,\n",
       " https://t.co/jZhHTk2LTM]"
      ]
     },
     "execution_count": 13,
     "metadata": {},
     "output_type": "execute_result"
    }
   ],
   "source": [
    "# tokenize the text by passing it into the nlp constructor.\n",
    "token_list = [token for token in docs[0]]\n",
    "token_list"
   ]
  },
  {
   "cell_type": "code",
   "execution_count": 14,
   "metadata": {},
   "outputs": [
    {
     "data": {
      "text/plain": [
       "[Merry, Christmas, !, !]"
      ]
     },
     "execution_count": 14,
     "metadata": {},
     "output_type": "execute_result"
    }
   ],
   "source": [
    "# Filter stop words (automatically done as part of the nlp pipeline)\n",
    "# Remove stop words \n",
    "filtered_tokens = [token for token in docs[1] if not token.is_stop]\n",
    "filtered_tokens"
   ]
  },
  {
   "cell_type": "code",
   "execution_count": 51,
   "metadata": {},
   "outputs": [
    {
     "data": {
      "text/plain": [
       "['Token: thanks, lemma: thanks',\n",
       " 'Token: raise, lemma: raise',\n",
       " 'Token: good, lemma: good',\n",
       " 'Token: point, lemma: point',\n",
       " 'Token: raised, lemma: raise',\n",
       " 'Token: .., lemma: ..',\n",
       " 'Token: https://t.co/tQ4qztoGyj, lemma: https://t.co/tq4qztogyj']"
      ]
     },
     "execution_count": 51,
     "metadata": {},
     "output_type": "execute_result"
    }
   ],
   "source": [
    "# Word normalization \n",
    "lemmas = [\n",
    "     f\"Token: {token}, lemma: {token.lemma_}\"\n",
    "     for token in filtered_tokens\n",
    " ]\n",
    "lemmas"
   ]
  },
  {
   "cell_type": "code",
   "execution_count": null,
   "metadata": {},
   "outputs": [],
   "source": []
  }
 ],
 "metadata": {
  "kernelspec": {
   "display_name": "Python 3",
   "language": "python",
   "name": "python3"
  },
  "language_info": {
   "codemirror_mode": {
    "name": "ipython",
    "version": 3
   },
   "file_extension": ".py",
   "mimetype": "text/x-python",
   "name": "python",
   "nbconvert_exporter": "python",
   "pygments_lexer": "ipython3",
   "version": "3.9.1"
  }
 },
 "nbformat": 4,
 "nbformat_minor": 4
}
